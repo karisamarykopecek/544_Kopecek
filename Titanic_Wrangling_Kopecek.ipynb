{
  "cells": [
    {
      "cell_type": "markdown",
      "metadata": {},
      "source": [
        "---\n",
        "title: \"Titanic Wrangling\"\n",
        "author: Karisa Kopecek\n",
        "date: today\n",
        "format:\n",
        "  html:\n",
        "    embed-resources: true\n",
        "    echo: true\n",
        "---"
      ]
    },
    {
      "cell_type": "markdown",
      "metadata": {
        "id": "QWpPySbzYEIV"
      },
      "source": [
        "# Titanic Wrangling\n",
        "\n",
        "In this practice activity you'll continue to work with the titanic dataset in ways that flex what you've learned about both data wrangling and data visualization."
      ]
    },
    {
      "cell_type": "code",
      "execution_count": 1,
      "metadata": {
        "colab": {
          "base_uri": "https://localhost:8080/",
          "height": 206
        },
        "id": "Nr6w8bVCf_NM",
        "outputId": "41deeeed-7ce9-4ece-8fff-acb1f3ff5dbc"
      },
      "outputs": [
        {
          "data": {
            "text/html": [
              "<div>\n",
              "<style scoped>\n",
              "    .dataframe tbody tr th:only-of-type {\n",
              "        vertical-align: middle;\n",
              "    }\n",
              "\n",
              "    .dataframe tbody tr th {\n",
              "        vertical-align: top;\n",
              "    }\n",
              "\n",
              "    .dataframe thead th {\n",
              "        text-align: right;\n",
              "    }\n",
              "</style>\n",
              "<table border=\"1\" class=\"dataframe\">\n",
              "  <thead>\n",
              "    <tr style=\"text-align: right;\">\n",
              "      <th></th>\n",
              "      <th>name</th>\n",
              "      <th>gender</th>\n",
              "      <th>age</th>\n",
              "      <th>class</th>\n",
              "      <th>embarked</th>\n",
              "      <th>country</th>\n",
              "      <th>ticketno</th>\n",
              "      <th>fare</th>\n",
              "      <th>survived</th>\n",
              "    </tr>\n",
              "  </thead>\n",
              "  <tbody>\n",
              "    <tr>\n",
              "      <th>0</th>\n",
              "      <td>Abbing, Mr. Anthony</td>\n",
              "      <td>male</td>\n",
              "      <td>42.0</td>\n",
              "      <td>3rd</td>\n",
              "      <td>S</td>\n",
              "      <td>United States</td>\n",
              "      <td>5547.0</td>\n",
              "      <td>7.11</td>\n",
              "      <td>0</td>\n",
              "    </tr>\n",
              "    <tr>\n",
              "      <th>1</th>\n",
              "      <td>Abbott, Mr. Eugene Joseph</td>\n",
              "      <td>male</td>\n",
              "      <td>13.0</td>\n",
              "      <td>3rd</td>\n",
              "      <td>S</td>\n",
              "      <td>United States</td>\n",
              "      <td>2673.0</td>\n",
              "      <td>20.05</td>\n",
              "      <td>0</td>\n",
              "    </tr>\n",
              "    <tr>\n",
              "      <th>2</th>\n",
              "      <td>Abbott, Mr. Rossmore Edward</td>\n",
              "      <td>male</td>\n",
              "      <td>16.0</td>\n",
              "      <td>3rd</td>\n",
              "      <td>S</td>\n",
              "      <td>United States</td>\n",
              "      <td>2673.0</td>\n",
              "      <td>20.05</td>\n",
              "      <td>0</td>\n",
              "    </tr>\n",
              "    <tr>\n",
              "      <th>3</th>\n",
              "      <td>Abbott, Mrs. Rhoda Mary 'Rosa'</td>\n",
              "      <td>female</td>\n",
              "      <td>39.0</td>\n",
              "      <td>3rd</td>\n",
              "      <td>S</td>\n",
              "      <td>England</td>\n",
              "      <td>2673.0</td>\n",
              "      <td>20.05</td>\n",
              "      <td>1</td>\n",
              "    </tr>\n",
              "    <tr>\n",
              "      <th>4</th>\n",
              "      <td>Abelseth, Miss. Karen Marie</td>\n",
              "      <td>female</td>\n",
              "      <td>16.0</td>\n",
              "      <td>3rd</td>\n",
              "      <td>S</td>\n",
              "      <td>Norway</td>\n",
              "      <td>348125.0</td>\n",
              "      <td>7.13</td>\n",
              "      <td>1</td>\n",
              "    </tr>\n",
              "  </tbody>\n",
              "</table>\n",
              "</div>"
            ],
            "text/plain": [
              "                             name  gender   age  ...  ticketno   fare survived\n",
              "0             Abbing, Mr. Anthony    male  42.0  ...    5547.0   7.11        0\n",
              "1       Abbott, Mr. Eugene Joseph    male  13.0  ...    2673.0  20.05        0\n",
              "2     Abbott, Mr. Rossmore Edward    male  16.0  ...    2673.0  20.05        0\n",
              "3  Abbott, Mrs. Rhoda Mary 'Rosa'  female  39.0  ...    2673.0  20.05        1\n",
              "4     Abelseth, Miss. Karen Marie  female  16.0  ...  348125.0   7.13        1\n",
              "\n",
              "[5 rows x 9 columns]"
            ]
          },
          "execution_count": null,
          "metadata": {},
          "output_type": "execute_result"
        }
      ],
      "source": [
        "# Import the titanic dataset here\n",
        "import numpy as np\n",
        "import pandas as pd\n",
        "\n",
        "data_dir = \"https://dlsun.github.io/pods/data/\"\n",
        "df_titanic = pd.read_csv(data_dir + \"titanic.csv\")\n",
        "\n",
        "df_titanic.head()"
      ]
    },
    {
      "cell_type": "markdown",
      "metadata": {
        "id": "9UgZD6VFYa96"
      },
      "source": [
        "## 1. Filter the data to include passengers only. Calculate the joint distribution (cross-tab) between a passenger's class and where they embarked."
      ]
    },
    {
      "cell_type": "code",
      "execution_count": 2,
      "metadata": {
        "colab": {
          "base_uri": "https://localhost:8080/",
          "height": 175
        },
        "id": "TBthOzDLgBif",
        "outputId": "33b6516a-2762-4b8b-e170-1530d0ff6461"
      },
      "outputs": [
        {
          "data": {
            "text/html": [
              "<div>\n",
              "<style scoped>\n",
              "    .dataframe tbody tr th:only-of-type {\n",
              "        vertical-align: middle;\n",
              "    }\n",
              "\n",
              "    .dataframe tbody tr th {\n",
              "        vertical-align: top;\n",
              "    }\n",
              "\n",
              "    .dataframe thead th {\n",
              "        text-align: right;\n",
              "    }\n",
              "</style>\n",
              "<table border=\"1\" class=\"dataframe\">\n",
              "  <thead>\n",
              "    <tr style=\"text-align: right;\">\n",
              "      <th>embarked</th>\n",
              "      <th>B</th>\n",
              "      <th>C</th>\n",
              "      <th>Q</th>\n",
              "      <th>S</th>\n",
              "    </tr>\n",
              "    <tr>\n",
              "      <th>class</th>\n",
              "      <th></th>\n",
              "      <th></th>\n",
              "      <th></th>\n",
              "      <th></th>\n",
              "    </tr>\n",
              "  </thead>\n",
              "  <tbody>\n",
              "    <tr>\n",
              "      <th>1st</th>\n",
              "      <td>3</td>\n",
              "      <td>143</td>\n",
              "      <td>3</td>\n",
              "      <td>175</td>\n",
              "    </tr>\n",
              "    <tr>\n",
              "      <th>2nd</th>\n",
              "      <td>6</td>\n",
              "      <td>26</td>\n",
              "      <td>7</td>\n",
              "      <td>245</td>\n",
              "    </tr>\n",
              "    <tr>\n",
              "      <th>3rd</th>\n",
              "      <td>0</td>\n",
              "      <td>102</td>\n",
              "      <td>113</td>\n",
              "      <td>494</td>\n",
              "    </tr>\n",
              "  </tbody>\n",
              "</table>\n",
              "</div>"
            ],
            "text/plain": [
              "embarked  B    C    Q    S\n",
              "class                     \n",
              "1st       3  143    3  175\n",
              "2nd       6   26    7  245\n",
              "3rd       0  102  113  494"
            ]
          },
          "execution_count": null,
          "metadata": {},
          "output_type": "execute_result"
        }
      ],
      "source": [
        "# Code here\n",
        "df_pass = df_titanic[df_titanic[\"class\"].isin([\"1st\", \"2nd\", \"3rd\"])]\n",
        "\n",
        "cross_tab = pd.crosstab(df_pass[\"class\"], df_pass[\"embarked\"])\n",
        "\n",
        "cross_tab"
      ]
    },
    {
      "cell_type": "markdown",
      "metadata": {
        "id": "3CRaJLSyYm4d"
      },
      "source": [
        "## 2. Using the joint distribution that calculated above, calculate the following:\n",
        "\n",
        "* the conditional distribution of their class given where they embarked\n",
        "* the conditional distribution of where they embarked given their class\n",
        "\n",
        "Use the conditional distributions that you calculate to answer the following quesitons:\n",
        "\n",
        "* What proportion of 3rd class passengers embarked at Southampton?\n",
        "* What proportion of Southampton passengers were in 3rd class?"
      ]
    },
    {
      "cell_type": "code",
      "execution_count": 3,
      "metadata": {
        "colab": {
          "base_uri": "https://localhost:8080/",
          "height": 175
        },
        "id": "TfTGidLIv1k0",
        "outputId": "65b3e4f5-c04f-470e-e53c-dd4fb26fa446"
      },
      "outputs": [
        {
          "data": {
            "text/html": [
              "<div>\n",
              "<style scoped>\n",
              "    .dataframe tbody tr th:only-of-type {\n",
              "        vertical-align: middle;\n",
              "    }\n",
              "\n",
              "    .dataframe tbody tr th {\n",
              "        vertical-align: top;\n",
              "    }\n",
              "\n",
              "    .dataframe thead th {\n",
              "        text-align: right;\n",
              "    }\n",
              "</style>\n",
              "<table border=\"1\" class=\"dataframe\">\n",
              "  <thead>\n",
              "    <tr style=\"text-align: right;\">\n",
              "      <th>embarked</th>\n",
              "      <th>B</th>\n",
              "      <th>C</th>\n",
              "      <th>Q</th>\n",
              "      <th>S</th>\n",
              "    </tr>\n",
              "    <tr>\n",
              "      <th>class</th>\n",
              "      <th></th>\n",
              "      <th></th>\n",
              "      <th></th>\n",
              "      <th></th>\n",
              "    </tr>\n",
              "  </thead>\n",
              "  <tbody>\n",
              "    <tr>\n",
              "      <th>1st</th>\n",
              "      <td>0.333333</td>\n",
              "      <td>0.527675</td>\n",
              "      <td>0.024390</td>\n",
              "      <td>0.191466</td>\n",
              "    </tr>\n",
              "    <tr>\n",
              "      <th>2nd</th>\n",
              "      <td>0.666667</td>\n",
              "      <td>0.095941</td>\n",
              "      <td>0.056911</td>\n",
              "      <td>0.268053</td>\n",
              "    </tr>\n",
              "    <tr>\n",
              "      <th>3rd</th>\n",
              "      <td>0.000000</td>\n",
              "      <td>0.376384</td>\n",
              "      <td>0.918699</td>\n",
              "      <td>0.540481</td>\n",
              "    </tr>\n",
              "  </tbody>\n",
              "</table>\n",
              "</div>"
            ],
            "text/plain": [
              "embarked         B         C         Q         S\n",
              "class                                           \n",
              "1st       0.333333  0.527675  0.024390  0.191466\n",
              "2nd       0.666667  0.095941  0.056911  0.268053\n",
              "3rd       0.000000  0.376384  0.918699  0.540481"
            ]
          },
          "execution_count": null,
          "metadata": {},
          "output_type": "execute_result"
        }
      ],
      "source": [
        "# Code here\n",
        "# Conditional distribution of class given embarkation port\n",
        "# P(Class | Embarked) - normalize by columns\n",
        "#index based on second one beibng embarked which is a column\n",
        "cond_class_given_embarked = pd.crosstab(df_pass[\"class\"], df_pass[\"embarked\"], normalize=\"columns\")\n",
        "\n",
        "cond_class_given_embarked"
      ]
    },
    {
      "cell_type": "code",
      "execution_count": 4,
      "metadata": {
        "colab": {
          "base_uri": "https://localhost:8080/",
          "height": 175
        },
        "id": "rx2LRBHHvoqC",
        "outputId": "f14cbfc9-b55b-4f77-e9c0-bfad4bcaf660"
      },
      "outputs": [
        {
          "data": {
            "text/html": [
              "<div>\n",
              "<style scoped>\n",
              "    .dataframe tbody tr th:only-of-type {\n",
              "        vertical-align: middle;\n",
              "    }\n",
              "\n",
              "    .dataframe tbody tr th {\n",
              "        vertical-align: top;\n",
              "    }\n",
              "\n",
              "    .dataframe thead th {\n",
              "        text-align: right;\n",
              "    }\n",
              "</style>\n",
              "<table border=\"1\" class=\"dataframe\">\n",
              "  <thead>\n",
              "    <tr style=\"text-align: right;\">\n",
              "      <th>embarked</th>\n",
              "      <th>B</th>\n",
              "      <th>C</th>\n",
              "      <th>Q</th>\n",
              "      <th>S</th>\n",
              "    </tr>\n",
              "    <tr>\n",
              "      <th>class</th>\n",
              "      <th></th>\n",
              "      <th></th>\n",
              "      <th></th>\n",
              "      <th></th>\n",
              "    </tr>\n",
              "  </thead>\n",
              "  <tbody>\n",
              "    <tr>\n",
              "      <th>1st</th>\n",
              "      <td>0.009259</td>\n",
              "      <td>0.441358</td>\n",
              "      <td>0.009259</td>\n",
              "      <td>0.540123</td>\n",
              "    </tr>\n",
              "    <tr>\n",
              "      <th>2nd</th>\n",
              "      <td>0.021127</td>\n",
              "      <td>0.091549</td>\n",
              "      <td>0.024648</td>\n",
              "      <td>0.862676</td>\n",
              "    </tr>\n",
              "    <tr>\n",
              "      <th>3rd</th>\n",
              "      <td>0.000000</td>\n",
              "      <td>0.143865</td>\n",
              "      <td>0.159379</td>\n",
              "      <td>0.696756</td>\n",
              "    </tr>\n",
              "  </tbody>\n",
              "</table>\n",
              "</div>"
            ],
            "text/plain": [
              "embarked         B         C         Q         S\n",
              "class                                           \n",
              "1st       0.009259  0.441358  0.009259  0.540123\n",
              "2nd       0.021127  0.091549  0.024648  0.862676\n",
              "3rd       0.000000  0.143865  0.159379  0.696756"
            ]
          },
          "execution_count": null,
          "metadata": {},
          "output_type": "execute_result"
        }
      ],
      "source": [
        "# Conditional distribution of embarkation port given class\n",
        "# P(Embarked | Class) - normalize by rows\n",
        "cond_embarked_given_class = pd.crosstab(df_pass[\"class\"], df_pass[\"embarked\"], normalize=\"index\")\n",
        "\n",
        "cond_embarked_given_class"
      ]
    },
    {
      "cell_type": "code",
      "execution_count": 5,
      "metadata": {
        "colab": {
          "base_uri": "https://localhost:8080/"
        },
        "id": "tDhQAv7lvZC8",
        "outputId": "37720360-3b86-471c-8c13-38e16e1e0bed"
      },
      "outputs": [
        {
          "data": {
            "text/plain": [
              "(np.float64(0.6967559943582511), np.float64(0.5404814004376368))"
            ]
          },
          "execution_count": null,
          "metadata": {},
          "output_type": "execute_result"
        }
      ],
      "source": [
        "# Answer the questions:\n",
        "# What proportion of 3rd class passengers embarked at Southampton?\n",
        "prop_3rd_southampton = cond_embarked_given_class.loc[\"3rd\", \"S\"]\n",
        "\n",
        "# What proportion of Southampton passengers were in 3rd class?\n",
        "prop_southampton_3rd = cond_class_given_embarked.loc[\"3rd\", \"S\"]\n",
        "\n",
        "prop_3rd_southampton, prop_southampton_3rd"
      ]
    },
    {
      "cell_type": "markdown",
      "metadata": {
        "id": "pGUQeeh1ZRfz"
      },
      "source": [
        "## 3. Make a visualization showing the distribution of a passenger's class, given where they embarked.\n",
        "\n",
        "Discuss the pros and cons of using this visualization versus the distributions you calculated before, to answer the previous questions."
      ]
    },
    {
      "cell_type": "code",
      "execution_count": 6,
      "metadata": {
        "colab": {
          "base_uri": "https://localhost:8080/",
          "height": 497
        },
        "id": "PZ18WKJWA-xZ",
        "outputId": "5002cf28-8cc5-48fe-bae9-3a2af4dcc84c"
      },
      "outputs": [
        {
          "data": {
            "image/png": "[encoded data removed]",
            "text/plain": [
              "<Figure size 640x480 with 1 Axes>"
            ]
          },
          "metadata": {},
          "output_type": "display_data"
        }
      ],
      "source": [
        "# Code here\n",
        "from plotnine import geom_bar, ggplot, aes\n",
        "\n",
        "(ggplot(df_pass, aes(x=\"embarked\", fill=\"class\"))\n",
        " + geom_bar(position=\"fill\"))\n"
      ]
    },
    {
      "cell_type": "markdown",
      "metadata": {
        "id": "wp82p5fRy6jw"
      },
      "source": [
        "Pros: The stacked bar chart provides an immediate visual comparison of the embarkation port distributions across all three classes simultaneously. It is easier to see patterns in the visualization like how Southampton dominated 3rd class.\n",
        "\n",
        "Cons: Reading exact proportions from the visualization is difficult compared to the numerical tables. I can easily see the numbers in the tables."
      ]
    }
  ],
  "metadata": {
    "colab": {
      "provenance": []
    },
    "kernelspec": {
      "display_name": "Python 3",
      "name": "python3"
    },
    "language_info": {
      "name": "python"
    }
  },
  "nbformat": 4,
  "nbformat_minor": 0
}
